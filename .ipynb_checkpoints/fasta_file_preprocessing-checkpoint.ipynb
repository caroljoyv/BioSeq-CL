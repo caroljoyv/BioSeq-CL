{
 "cells": [
  {
   "cell_type": "code",
   "execution_count": 1,
   "id": "4169ab7c",
   "metadata": {},
   "outputs": [],
   "source": [
    "import re\n",
    "import pandas as pd\n",
    "import numpy as np\n",
    "from Bio.SeqUtils import ProtParam"
   ]
  },
  {
   "cell_type": "markdown",
   "id": "d1733d97",
   "metadata": {},
   "source": [
    "#  Open file"
   ]
  },
  {
   "cell_type": "code",
   "execution_count": 2,
   "id": "9b86ef28",
   "metadata": {},
   "outputs": [],
   "source": [
    "def load_file(filename):\n",
    "    seq_tuple = []\n",
    "    count = 0\n",
    "    with open(filename) as f:\n",
    "        header = \"\"\n",
    "        sequence = \"\"\n",
    "        for line in f:\n",
    "            line = line.strip()  #remove white spaces\n",
    "            \n",
    "            if line.startswith('>'):\n",
    "                if sequence != '':\n",
    "                    #to filter sequences by their length\n",
    "#                     seq_len = len(sequence)\n",
    "#                     if seq_len >= 200 and seq_len <= 3000:\n",
    "                        seq_tuple.append((header, sequence))\n",
    "                header = line[1:]\n",
    "                sequence = ''\n",
    "                count += 1\n",
    "                \n",
    "            else:\n",
    "                sequence += line\n",
    "                \n",
    "        # Check the last sequence\n",
    "        seq_len = len(sequence)\n",
    "        if seq_len >= 300 and seq_len <= 1000:\n",
    "            seq_tuple.append((header, sequence))\n",
    "        return seq_tuple, count"
   ]
  },
  {
   "cell_type": "code",
   "execution_count": 3,
   "id": "92b39658",
   "metadata": {},
   "outputs": [],
   "source": [
    "coding = \"coding.fa\"\n",
    "non_coding = \"noncoding.fa\""
   ]
  },
  {
   "cell_type": "code",
   "execution_count": 4,
   "id": "22544216",
   "metadata": {},
   "outputs": [],
   "source": [
    "coding_list, coding_count = load_file(coding)  # function call on coding dataset"
   ]
  },
  {
   "cell_type": "code",
   "execution_count": 5,
   "id": "3566fe70",
   "metadata": {},
   "outputs": [],
   "source": [
    " noncoding_list, noncoding_count = load_file(non_coding)   # function call on noncoding dataset"
   ]
  },
  {
   "cell_type": "code",
   "execution_count": 6,
   "id": "00fb7b97",
   "metadata": {},
   "outputs": [
    {
     "data": {
      "text/plain": [
       "58022"
      ]
     },
     "execution_count": 6,
     "metadata": {},
     "output_type": "execute_result"
    }
   ],
   "source": [
    "len(noncoding_list)"
   ]
  },
  {
   "cell_type": "code",
   "execution_count": 7,
   "id": "927f9b3b",
   "metadata": {},
   "outputs": [
    {
     "data": {
      "text/plain": [
       "111275"
      ]
     },
     "execution_count": 7,
     "metadata": {},
     "output_type": "execute_result"
    }
   ],
   "source": [
    "len(coding_list)"
   ]
  },
  {
   "cell_type": "code",
   "execution_count": 8,
   "id": "21e0050c",
   "metadata": {},
   "outputs": [
    {
     "data": {
      "text/plain": [
       "111276"
      ]
     },
     "execution_count": 8,
     "metadata": {},
     "output_type": "execute_result"
    }
   ],
   "source": [
    "coding_count"
   ]
  },
  {
   "cell_type": "code",
   "execution_count": 9,
   "id": "9b521cd4",
   "metadata": {},
   "outputs": [
    {
     "data": {
      "text/plain": [
       "58023"
      ]
     },
     "execution_count": 9,
     "metadata": {},
     "output_type": "execute_result"
    }
   ],
   "source": [
    "noncoding_count"
   ]
  },
  {
   "cell_type": "markdown",
   "id": "9f4864ad",
   "metadata": {},
   "source": [
    "# Generate dataset"
   ]
  },
  {
   "cell_type": "markdown",
   "id": "8c7aa4b5",
   "metadata": {},
   "source": [
    "## 1. Fickett Score"
   ]
  },
  {
   "cell_type": "code",
   "execution_count": 10,
   "id": "89c00eb9",
   "metadata": {},
   "outputs": [],
   "source": [
    "# NAR 10(17) 5303-531\n",
    "position_parameter = [1.9,1.8,1.7,1.6,1.5,1.4,1.3,1.2,1.1,0.0]\n",
    "position_prob_coding = {\n",
    "'A':[0.94,0.68,0.84,0.93,0.58,0.68,0.45,0.34,0.20,0.22],\n",
    "'C':[0.80,0.70,0.70,0.81,0.66,0.48,0.51,0.33,0.30,0.23],\n",
    "'G':[0.90,0.88,0.74,0.64,0.53,0.48,0.27,0.16,0.08,0.08],\n",
    "'T':[0.97,0.97,0.91,0.68,0.69,0.44,0.54,0.20,0.09,0.09]\n",
    "}\n",
    "position_weight = {'A':0.26,'C':0.18,'G':0.31,'T':0.33}\n",
    "\n",
    "content_parameter = [0.33,0.31,0.29,0.27,0.25,0.23,0.21,0.17,0]\n",
    "content_prob_coding = {\n",
    "'A':[0.28,0.49,0.44,0.55,0.62,0.49,0.67,0.65,0.81,0.21],\n",
    "'C':[0.82,0.64,0.51,0.64,0.59,0.59,0.43,0.44,0.39,0.31],\n",
    "'G':[0.40,0.54,0.47,0.64,0.64,0.73,0.41,0.41,0.33,0.29],\n",
    "'T':[0.28,0.24,0.39,0.40,0.55,0.75,0.56,0.69,0.51,0.58]\n",
    "}\n",
    "content_weight = {'A':0.11,'C':0.12,'G':0.15,'T':0.14}\n",
    "\n",
    "def position_map(pos_value, base):\n",
    "    if pos_value < 0:\n",
    "        return None\n",
    "    for i,v in enumerate(position_parameter):\n",
    "        if pos_value >= v:\n",
    "            posbyweight = position_prob_coding[base][i]*position_weight[base]\n",
    "            return posbyweight\n",
    "\n",
    "def content_map(con_value, base):\n",
    "    if con_value < 0:\n",
    "        return None\n",
    "    for i,v in enumerate(content_parameter):\n",
    "        if con_value >= v:\n",
    "            conbyweight = content_prob_coding[base][i]*content_weight[base]\n",
    "            return conbyweight\n",
    "\n",
    "def fickett(sequence):\n",
    "    A123pos = [0, 0, 0]  # A1, A2, A3\n",
    "    T123pos = [0, 0, 0]  # T1, T2, T3\n",
    "    G123pos = [0, 0, 0]  # G1, G2, G3\n",
    "    C123pos = [0, 0, 0]  # C1, C2, C3\n",
    "    fickett_score = 0\n",
    "    for i in range(3):\n",
    "        for j in range(i, len(sequence), 3):\n",
    "            if sequence[j] == 'A':\n",
    "                A123pos[i] += 1\n",
    "            elif sequence[j] == 'T':\n",
    "                T123pos[i] += 1\n",
    "            elif sequence[j] == 'G':\n",
    "                G123pos[i] += 1\n",
    "            elif sequence[j] == 'C':\n",
    "                C123pos[i] += 1\n",
    "    # A, T, G, C positions\n",
    "    Apos = max(A123pos[0], A123pos[1], A123pos[2]) / (min(A123pos[0], A123pos[1], A123pos[2]) + 1)\n",
    "    Tpos = max(T123pos[0], T123pos[1], T123pos[2]) / (min(T123pos[0], T123pos[1], T123pos[2]) + 1)\n",
    "    Gpos = max(G123pos[0], G123pos[1], G123pos[2]) / (min(G123pos[0], G123pos[1], G123pos[2]) + 1)\n",
    "    Cpos = max(C123pos[0], C123pos[1], C123pos[2]) / (min(C123pos[0], C123pos[1], C123pos[2]) + 1)\n",
    "    # A, T, G, C content\n",
    "    Acon = sequence.count('A') / len(sequence)\n",
    "    Tcon = sequence.count('T') / len(sequence)\n",
    "    Gcon = sequence.count('G') / len(sequence)\n",
    "    Ccon = sequence.count('C') / len(sequence)\n",
    "\n",
    "    # fickett score\n",
    "    fickett_score += position_map(Apos, 'A')\n",
    "    fickett_score += position_map(Tpos, 'T')\n",
    "    fickett_score += position_map(Gpos, 'G')\n",
    "    fickett_score += position_map(Cpos, 'C')\n",
    "\n",
    "    fickett_score += content_map(Acon, 'A')\n",
    "    fickett_score += content_map(Tcon, 'T')\n",
    "    fickett_score += content_map(Gcon, 'G')\n",
    "    fickett_score += content_map(Ccon, 'C')\n",
    "    return fickett_score\n"
   ]
  },
  {
   "cell_type": "markdown",
   "id": "2b085567",
   "metadata": {},
   "source": [
    "## 2. ORF Length"
   ]
  },
  {
   "cell_type": "code",
   "execution_count": 11,
   "id": "63ca1d2f",
   "metadata": {},
   "outputs": [],
   "source": [
    "def translation(sequence):\n",
    "    '''\n",
    "    :param sequence: input primary sequence of a transcript\n",
    "    :return: protein sequence\n",
    "    '''\n",
    "    trans_dic = {'TTT': 'F', 'TTC': 'F', 'TTA': 'L', 'TTG': 'L', 'CTT': 'L',\n",
    "                 'CTC': 'L', 'CTA': 'L', 'CTG': 'L', 'ATT': 'I', 'ATC': 'I',\n",
    "                 'ATA': 'I', 'ATG': 'M', 'GTT': 'V', 'GTC': 'V', 'GTA': 'V',\n",
    "                 'GTG': 'V', 'TCT': 'S', 'TCC': 'S', 'TCA': 'S', 'TCG': 'S',\n",
    "                 'CCT': 'P', 'CCC': 'P', 'CCA': 'P', 'CCG': 'P', 'ACT': 'T',\n",
    "                 'ACC': 'T', 'ACA': 'T', 'ACG': 'T', 'GCT': 'A', 'GCC': 'A',\n",
    "                 'GCA': 'A', 'GCG': 'A', 'TAT': 'Y', 'TAC': 'Y', 'TAA': '*',\n",
    "                 'TAG': '*', 'CAT': 'H', 'CAC': 'H', 'CAA': 'Q', 'CAG': 'Q',\n",
    "                 'AAT': 'N', 'AAC': 'N', 'AAA': 'K', 'AAG': 'K', 'GAT': 'D',\n",
    "                 'GAC': 'D', 'GAA': 'E', 'GAG': 'E', 'TGT': 'C', 'TGC': 'C',\n",
    "                 'TGA': '*', 'TGG': 'W', 'CGT': 'R', 'CGC': 'R', 'CGA': 'R',\n",
    "                 'CGG': 'R', 'AGT': 'S', 'AGC': 'S', 'AGA': 'R', 'AGG': 'R',\n",
    "                 'GGT': 'G', 'GGC': 'G', 'GGA': 'G', 'GGG': 'G'}\n",
    "    protein = ''\n",
    "    for i in range(0, len(sequence)-2, 3):\n",
    "        protein += trans_dic[sequence[i:i+3]]\n",
    "    return protein"
   ]
  },
  {
   "cell_type": "code",
   "execution_count": 12,
   "id": "b53479ee",
   "metadata": {},
   "outputs": [],
   "source": [
    "def ORFfinder_T0(sequence):\n",
    "    # 3 frame translation\n",
    "    trans1 = translation(sequence)\n",
    "    trans2 = translation(sequence[1:])\n",
    "    trans3 = translation(sequence[2:])\n",
    "\n",
    "    orf1 = re.finditer(r'M.*?\\*', trans1)\n",
    "    orf2 = re.finditer(r'M.*?\\*', trans2)\n",
    "    orf3 = re.finditer(r'M.*?\\*', trans3)\n",
    "    orf1_seqs = [(m.start(), m.end(), m.group(), 'frame1') for m in orf1]\n",
    "    orf2_seqs = [(m.start(), m.end(), m.group(), 'frame2') for m in orf2]\n",
    "    orf3_seqs = [(m.start(), m.end(), m.group(), 'frame3') for m in orf3]\n",
    "\n",
    "    orfs = orf1_seqs + orf2_seqs + orf3_seqs\n",
    "    if len(orfs) == 0:\n",
    "#         return ('NaN', 'NaN'), 'NaN', 0\n",
    "        return 0\n",
    "    else:\n",
    "        orf_sorted = sorted(orfs, key=lambda t: len(t[2]), reverse=True)\n",
    "        longest_orf_protein_seq = orf_sorted[0][2]\n",
    "        longest_orf_frame = orf_sorted[0][3]\n",
    "        longest_orf_pro_position = (int(orf_sorted[0][0]), int(orf_sorted[0][1]))\n",
    "        if longest_orf_frame == 'frame1':\n",
    "            longest_orf_rna_seq_position = (longest_orf_pro_position[0] * 3, longest_orf_pro_position[1] * 3)\n",
    "            longest_orf_rna_seq = sequence[longest_orf_rna_seq_position[0]:longest_orf_rna_seq_position[1]]\n",
    "            longest_orf_rna_length = longest_orf_rna_seq_position[1] - longest_orf_rna_seq_position[0]\n",
    "            return longest_orf_rna_length\n",
    "#             return longest_orf_rna_seq_position, longest_orf_rna_seq, longest_orf_rna_length\n",
    "        elif longest_orf_frame == 'frame2':\n",
    "            longest_orf_rna_seq_position = (longest_orf_pro_position[0] * 3, longest_orf_pro_position[1] * 3)\n",
    "            longest_orf_rna_seq = sequence[1:][longest_orf_rna_seq_position[0]:longest_orf_rna_seq_position[1]]\n",
    "            longest_orf_rna_seq_original_position = (\n",
    "            longest_orf_pro_position[0] * 3 + 1, longest_orf_pro_position[1] * 3 + 1)\n",
    "            longest_orf_rna_length = longest_orf_rna_seq_original_position[1] - longest_orf_rna_seq_original_position[0]\n",
    "            return longest_orf_rna_length\n",
    "#             return longest_orf_rna_seq_original_position, longest_orf_rna_seq, longest_orf_rna_length\n",
    "        elif longest_orf_frame == 'frame3':\n",
    "            longest_orf_rna_seq_position = (longest_orf_pro_position[0] * 3, longest_orf_pro_position[1] * 3)\n",
    "            longest_orf_rna_seq = sequence[2:][longest_orf_rna_seq_position[0]:longest_orf_rna_seq_position[1]]\n",
    "            longest_orf_rna_seq_original_position = (\n",
    "            longest_orf_pro_position[0] * 3 + 2, longest_orf_pro_position[1] * 3 + 2)\n",
    "            longest_orf_rna_length = longest_orf_rna_seq_original_position[1] - longest_orf_rna_seq_original_position[0]\n",
    "            return longest_orf_rna_length\n",
    "#             return longest_orf_rna_seq_original_position, longest_orf_rna_seq, longest_orf_rna_length\n",
    "\n"
   ]
  },
  {
   "cell_type": "markdown",
   "id": "6419ef11",
   "metadata": {},
   "source": [
    "## 3. Relative Codon Bias"
   ]
  },
  {
   "cell_type": "code",
   "execution_count": 13,
   "id": "5b2728c8",
   "metadata": {},
   "outputs": [],
   "source": [
    "    \n",
    "def RCB_score(seq):\n",
    "    condon_dict = {}         # a dictionary contain the counts of each condon\n",
    "    condon_list = []         # a list contain the condons in a sequence\n",
    "    Frequency_1 = {'A': 0,\n",
    "                'T': 0,\n",
    "                'G' : 0,\n",
    "                'C' : 0}\n",
    "    Frequency_2 = {'A': 0,\n",
    "                'T': 0,\n",
    "                'G' : 0,\n",
    "                'C' : 0}\n",
    "    Frequency_3 = {'A': 0,\n",
    "                'T': 0,\n",
    "                'G' : 0,\n",
    "                'C' : 0}\n",
    "\n",
    "    # First position\n",
    "    for i in range(0,len(seq),3):\n",
    "        if seq[i] == 'A':\n",
    "            Frequency_1['A'] += 1\n",
    "        elif seq[i] == 'T':\n",
    "            Frequency_1['T'] += 1\n",
    "        elif seq[i] == 'G':\n",
    "            Frequency_1['G'] += 1\n",
    "        elif seq[i] == 'C':\n",
    "            Frequency_1['C'] += 1\n",
    "\n",
    "        if len(seq[i:i+3]) != 3:\n",
    "            continue\n",
    "        elif seq[i:i+3] not in condon_dict:\n",
    "            condon_dict[seq[i:i+3]] = 1\n",
    "        else:\n",
    "            condon_dict[seq[i:i+3]] += 1\n",
    "\n",
    "        if len(seq[i:i+3]) == 3:\n",
    "            condon_list.append(seq[i:i+3])\n",
    "\n",
    "    # Second position\n",
    "    for i in range(1,len(seq),3):\n",
    "        if seq[i] == 'A':\n",
    "            Frequency_2['A'] += 1\n",
    "        elif seq[i] == 'T':\n",
    "            Frequency_2['T'] += 1\n",
    "        elif seq[i] == 'G':\n",
    "            Frequency_2['G'] += 1\n",
    "        elif seq[i] == 'C':\n",
    "            Frequency_2['C'] += 1\n",
    "\n",
    "    # Third position\n",
    "    for i in range(2,len(seq),3):\n",
    "        if seq[i] == 'A':\n",
    "            Frequency_3['A'] += 1\n",
    "        elif seq[i] == 'T':\n",
    "            Frequency_3['T'] += 1\n",
    "        elif seq[i] == 'G':\n",
    "            Frequency_3['G'] += 1\n",
    "        elif seq[i] == 'C':\n",
    "            Frequency_3['C'] += 1\n",
    "\n",
    "    total_condons = len(condon_list)\n",
    "    condon_sum = 0\n",
    "    for k in condon_list:\n",
    "        d = np.log(np.absolute((condon_dict[k]/total_condons) - (Frequency_1[k[0]]/total_condons) *\n",
    "             (Frequency_2[k[1]]/total_condons) * (Frequency_3[k[2]]/total_condons)) / ((Frequency_1[k[0]]/total_condons) *\n",
    "             (Frequency_2[k[1]]/total_condons) * (Frequency_3[k[2]]/total_condons)) + 1)\n",
    "        condon_sum = condon_sum + d\n",
    "\n",
    "    RCB = np.exp(condon_sum/len(condon_list))-1\n",
    "    return RCB\n",
    "\n"
   ]
  },
  {
   "cell_type": "markdown",
   "id": "9151b36a",
   "metadata": {},
   "source": [
    "## 4.  Isoelectric Point"
   ]
  },
  {
   "cell_type": "code",
   "execution_count": 14,
   "id": "b3dc8373",
   "metadata": {},
   "outputs": [],
   "source": [
    "def cal_protein_features_pi(seq):\n",
    "    '''\n",
    "    :param seq: input primary sequence of a transcript\n",
    "    :return: pi: (protein isoelectric),\n",
    "             mw: (molecular weight)\n",
    "             # gravy: (grand average of hydropathy)\n",
    "             aromaticity: (relative frequency of Phe+Trp+Tyr)\n",
    "             instability: (instability index --\n",
    "                          Any value above 40 means the protein is unstable (=has a short half life)).\n",
    "    '''\n",
    "    protein_seq = translation(seq).strip('*')\n",
    "    protein_object = ProtParam.ProteinAnalysis(protein_seq)\n",
    "    pi = protein_object.isoelectric_point()\n",
    "    return pi"
   ]
  },
  {
   "cell_type": "markdown",
   "id": "b0627524",
   "metadata": {},
   "source": [
    "## 5. Aromaticity"
   ]
  },
  {
   "cell_type": "code",
   "execution_count": 15,
   "id": "207c6ab2",
   "metadata": {},
   "outputs": [],
   "source": [
    "def cal_protein_features_aromaticity(seq):\n",
    "    '''\n",
    "    :param seq: input primary sequence of a transcript\n",
    "    :return: pi: (protein isoelectric),\n",
    "             mw: (molecular weight)\n",
    "             # gravy: (grand average of hydropathy)\n",
    "             aromaticity: (relative frequency of Phe+Trp+Tyr)\n",
    "             instability: (instability index --\n",
    "                          Any value above 40 means the protein is unstable (=has a short half life)).\n",
    "    '''\n",
    "\n",
    "    protein_seq = translation(seq).strip('*')\n",
    "    protein_object = ProtParam.ProteinAnalysis(protein_seq)\n",
    "    aromaticity = protein_object.aromaticity()\n",
    "    return aromaticity"
   ]
  },
  {
   "cell_type": "markdown",
   "id": "1e1105c5",
   "metadata": {},
   "source": [
    "## 6. Transcript Length"
   ]
  },
  {
   "cell_type": "code",
   "execution_count": 16,
   "id": "8f2d2c95",
   "metadata": {},
   "outputs": [],
   "source": [
    "def transcript_length(seq):\n",
    "    return len(seq)"
   ]
  },
  {
   "cell_type": "markdown",
   "id": "1c937bc2",
   "metadata": {},
   "source": [
    "## 7. ORF Length"
   ]
  },
  {
   "cell_type": "markdown",
   "id": "c8a322fe",
   "metadata": {},
   "source": [
    "**ORF length is the actual length of the coding sequence in nucleotides.**"
   ]
  },
  {
   "cell_type": "markdown",
   "id": "aae0ec83",
   "metadata": {},
   "source": [
    "## 8. ORF Coverage"
   ]
  },
  {
   "cell_type": "markdown",
   "id": "e932f147",
   "metadata": {},
   "source": [
    "**ORF coverage refers to the percentage of the entire sequence that is covered by the ORF.\n",
    "<br> For example, if an ORF is 300 nucleotides long and the entire sequence is 1000 nucleotides long, then the ORF length is 300 nucleotides and the ORF coverage is 30% (300/1000).**"
   ]
  },
  {
   "cell_type": "markdown",
   "id": "e4d391a0",
   "metadata": {},
   "source": [
    "## 9. CpG Islands"
   ]
  },
  {
   "cell_type": "code",
   "execution_count": 17,
   "id": "e05ab982",
   "metadata": {},
   "outputs": [],
   "source": [
    "def calculate_cpg_islands(seq):\n",
    "    cpg_islands = []\n",
    "    cpg_count = 0\n",
    "    in_island = False\n",
    "    \n",
    "    for i in range(len(seq)-1):\n",
    "        if seq[i:i+2].upper() == 'CG':\n",
    "            cpg_count += 1\n",
    "            if not in_island:\n",
    "                in_island = True\n",
    "        else:\n",
    "            if cpg_count > 0:\n",
    "                cpg_islands.append(cpg_count)\n",
    "                cpg_count = 0\n",
    "                in_island = False\n",
    "    \n",
    "    if cpg_count > 0:\n",
    "        cpg_islands.append(cpg_count)\n",
    "    \n",
    "    return cpg_islands"
   ]
  },
  {
   "cell_type": "markdown",
   "id": "3f1cfb5b",
   "metadata": {},
   "source": [
    "## 10. GC content"
   ]
  },
  {
   "cell_type": "code",
   "execution_count": 44,
   "id": "8ffb27bb",
   "metadata": {},
   "outputs": [],
   "source": [
    "def gcContent(sequence):\n",
    "    '''\n",
    "    :param sequence: primary sequence of a transcript\n",
    "    :return: the GC content of the sequence\n",
    "    '''\n",
    "    Gcontent = 0\n",
    "    Ccontent = 0\n",
    "    for base in sequence:\n",
    "        if base == 'G':\n",
    "            Gcontent += 1\n",
    "        if base == 'C':\n",
    "            Ccontent += 1\n",
    "    GCcontent = (Gcontent+Ccontent)/len(sequence)\n",
    "    return GCcontent"
   ]
  },
  {
   "cell_type": "markdown",
   "id": "c05fb175",
   "metadata": {},
   "source": [
    "## Generating feature arrays"
   ]
  },
  {
   "cell_type": "code",
   "execution_count": 18,
   "id": "c11ac6b9",
   "metadata": {},
   "outputs": [],
   "source": [
    "import pandas as pd"
   ]
  },
  {
   "cell_type": "code",
   "execution_count": 19,
   "id": "4ddb1eae",
   "metadata": {},
   "outputs": [],
   "source": [
    "\n",
    "\n",
    "def generate_feature(list_name):\n",
    "    \n",
    "    \n",
    "    for header, sequence in list_name:        \n",
    "        #calculate fickett score\n",
    "        fickett_score = fickett(sequence)\n",
    "        \n",
    "        #calculate GC content\n",
    "        gc = gcContent(sequence)\n",
    "        \n",
    "        # Calculate the number of CpG islands for this sequence\n",
    "        cpg_islands = calculate_cpg_islands(sequence)\n",
    "        num_islands = len(cpg_islands)\n",
    "    \n",
    "        #calculate transcript length\n",
    "        length = transcript_length(sequence)\n",
    "        \n",
    "        #calculate ORF length\n",
    "        orf_length = ORFfinder_T0(sequence)\n",
    "        \n",
    "        #calculate ORF ratio\n",
    "        orf_ratio = orf_length/length\n",
    "        \n",
    "        #calculate Relative Codon Bias , isoelectric point, aromaticity\n",
    "        if orf_length != 0:\n",
    "            rcb_t0 = RCB_score(sequence)\n",
    "            pi = cal_protein_features_pi(sequence)\n",
    "            arom = cal_protein_features_aromaticity(sequence)\n",
    "        else:\n",
    "            rcb_t0 = 0\n",
    "            pi = 0\n",
    "            arom = 0\n",
    "        \n",
    "        fickett_array.append(fickett_score)\n",
    "        cpg_array.append(num_islands)\n",
    "        transcript_array.append(length)\n",
    "        orf_array.append(orf_length)\n",
    "        orf_ratio_array.append(orf_ratio)\n",
    "        rcb_array.append(rcb_t0)\n",
    "        ip_array.append(pi)\n",
    "        aromaticity_array.append(arom)   \n",
    "        \n",
    "    "
   ]
  },
  {
   "cell_type": "markdown",
   "id": "bbad6123",
   "metadata": {},
   "source": [
    "#  Create coding dataset"
   ]
  },
  {
   "cell_type": "code",
   "execution_count": 32,
   "id": "bae98224",
   "metadata": {},
   "outputs": [],
   "source": [
    "fickett_array = []\n",
    "orf_array = []\n",
    "rcb_array=[]\n",
    "ip_array = []\n",
    "aromaticity_array = []\n",
    "transcript_array = []\n",
    "orf_ratio_array = []\n",
    "cpg_array = []\n",
    "generate_feature(coding_list) # generate feature set for coding dataset"
   ]
  },
  {
   "cell_type": "code",
   "execution_count": 33,
   "id": "1ab24193",
   "metadata": {},
   "outputs": [],
   "source": [
    "names_dict = {'Fickett Score':fickett_array, 'CpG Islands':cpg_array, 'Transcript Length':transcript_array, 'ORF Length':orf_array, 'ORF Ratio':orf_array, 'Relative Codon Bias':rcb_array, 'Isoelectric Potential':ip_array, 'Aromaticity':aromaticity_array}\n",
    "features_df = pd.DataFrame(names_dict)"
   ]
  },
  {
   "cell_type": "code",
   "execution_count": 34,
   "id": "bca0abe5",
   "metadata": {},
   "outputs": [
    {
     "data": {
      "text/html": [
       "<div>\n",
       "<style scoped>\n",
       "    .dataframe tbody tr th:only-of-type {\n",
       "        vertical-align: middle;\n",
       "    }\n",
       "\n",
       "    .dataframe tbody tr th {\n",
       "        vertical-align: top;\n",
       "    }\n",
       "\n",
       "    .dataframe thead th {\n",
       "        text-align: right;\n",
       "    }\n",
       "</style>\n",
       "<table border=\"1\" class=\"dataframe\">\n",
       "  <thead>\n",
       "    <tr style=\"text-align: right;\">\n",
       "      <th></th>\n",
       "      <th>Fickett Score</th>\n",
       "      <th>CpG Islands</th>\n",
       "      <th>Transcript Length</th>\n",
       "      <th>ORF Length</th>\n",
       "      <th>ORF Ratio</th>\n",
       "      <th>Relative Codon Bias</th>\n",
       "      <th>Isoelectric Potential</th>\n",
       "      <th>Aromaticity</th>\n",
       "    </tr>\n",
       "  </thead>\n",
       "  <tbody>\n",
       "    <tr>\n",
       "      <th>0</th>\n",
       "      <td>0.3871</td>\n",
       "      <td>18</td>\n",
       "      <td>2618</td>\n",
       "      <td>981</td>\n",
       "      <td>981</td>\n",
       "      <td>0.284229</td>\n",
       "      <td>9.588915</td>\n",
       "      <td>0.112385</td>\n",
       "    </tr>\n",
       "    <tr>\n",
       "      <th>1</th>\n",
       "      <td>0.9340</td>\n",
       "      <td>8</td>\n",
       "      <td>939</td>\n",
       "      <td>939</td>\n",
       "      <td>939</td>\n",
       "      <td>0.460470</td>\n",
       "      <td>9.042610</td>\n",
       "      <td>0.137821</td>\n",
       "    </tr>\n",
       "    <tr>\n",
       "      <th>2</th>\n",
       "      <td>0.9340</td>\n",
       "      <td>8</td>\n",
       "      <td>939</td>\n",
       "      <td>939</td>\n",
       "      <td>939</td>\n",
       "      <td>0.460470</td>\n",
       "      <td>9.042610</td>\n",
       "      <td>0.137821</td>\n",
       "    </tr>\n",
       "    <tr>\n",
       "      <th>3</th>\n",
       "      <td>1.0718</td>\n",
       "      <td>302</td>\n",
       "      <td>3465</td>\n",
       "      <td>2535</td>\n",
       "      <td>2535</td>\n",
       "      <td>0.270346</td>\n",
       "      <td>11.870000</td>\n",
       "      <td>0.051948</td>\n",
       "    </tr>\n",
       "    <tr>\n",
       "      <th>4</th>\n",
       "      <td>1.0718</td>\n",
       "      <td>302</td>\n",
       "      <td>3468</td>\n",
       "      <td>2538</td>\n",
       "      <td>2538</td>\n",
       "      <td>0.271500</td>\n",
       "      <td>11.870000</td>\n",
       "      <td>0.051903</td>\n",
       "    </tr>\n",
       "  </tbody>\n",
       "</table>\n",
       "</div>"
      ],
      "text/plain": [
       "   Fickett Score  CpG Islands  Transcript Length  ORF Length  ORF Ratio  \\\n",
       "0         0.3871           18               2618         981        981   \n",
       "1         0.9340            8                939         939        939   \n",
       "2         0.9340            8                939         939        939   \n",
       "3         1.0718          302               3465        2535       2535   \n",
       "4         1.0718          302               3468        2538       2538   \n",
       "\n",
       "   Relative Codon Bias  Isoelectric Potential  Aromaticity  \n",
       "0             0.284229               9.588915     0.112385  \n",
       "1             0.460470               9.042610     0.137821  \n",
       "2             0.460470               9.042610     0.137821  \n",
       "3             0.270346              11.870000     0.051948  \n",
       "4             0.271500              11.870000     0.051903  "
      ]
     },
     "execution_count": 34,
     "metadata": {},
     "output_type": "execute_result"
    }
   ],
   "source": [
    "features_df.head()"
   ]
  },
  {
   "cell_type": "markdown",
   "id": "3851fc77",
   "metadata": {},
   "source": [
    "### Adding a label for coding sequences"
   ]
  },
  {
   "cell_type": "code",
   "execution_count": 35,
   "id": "dfa3faf6",
   "metadata": {},
   "outputs": [
    {
     "data": {
      "text/html": [
       "<div>\n",
       "<style scoped>\n",
       "    .dataframe tbody tr th:only-of-type {\n",
       "        vertical-align: middle;\n",
       "    }\n",
       "\n",
       "    .dataframe tbody tr th {\n",
       "        vertical-align: top;\n",
       "    }\n",
       "\n",
       "    .dataframe thead th {\n",
       "        text-align: right;\n",
       "    }\n",
       "</style>\n",
       "<table border=\"1\" class=\"dataframe\">\n",
       "  <thead>\n",
       "    <tr style=\"text-align: right;\">\n",
       "      <th></th>\n",
       "      <th>Fickett Score</th>\n",
       "      <th>CpG Islands</th>\n",
       "      <th>Transcript Length</th>\n",
       "      <th>ORF Length</th>\n",
       "      <th>ORF Ratio</th>\n",
       "      <th>Relative Codon Bias</th>\n",
       "      <th>Isoelectric Potential</th>\n",
       "      <th>Aromaticity</th>\n",
       "      <th>coding/noncoding</th>\n",
       "    </tr>\n",
       "  </thead>\n",
       "  <tbody>\n",
       "    <tr>\n",
       "      <th>0</th>\n",
       "      <td>0.3871</td>\n",
       "      <td>18</td>\n",
       "      <td>2618</td>\n",
       "      <td>981</td>\n",
       "      <td>981</td>\n",
       "      <td>0.284229</td>\n",
       "      <td>9.588915</td>\n",
       "      <td>0.112385</td>\n",
       "      <td>1</td>\n",
       "    </tr>\n",
       "    <tr>\n",
       "      <th>1</th>\n",
       "      <td>0.9340</td>\n",
       "      <td>8</td>\n",
       "      <td>939</td>\n",
       "      <td>939</td>\n",
       "      <td>939</td>\n",
       "      <td>0.460470</td>\n",
       "      <td>9.042610</td>\n",
       "      <td>0.137821</td>\n",
       "      <td>1</td>\n",
       "    </tr>\n",
       "    <tr>\n",
       "      <th>2</th>\n",
       "      <td>0.9340</td>\n",
       "      <td>8</td>\n",
       "      <td>939</td>\n",
       "      <td>939</td>\n",
       "      <td>939</td>\n",
       "      <td>0.460470</td>\n",
       "      <td>9.042610</td>\n",
       "      <td>0.137821</td>\n",
       "      <td>1</td>\n",
       "    </tr>\n",
       "    <tr>\n",
       "      <th>3</th>\n",
       "      <td>1.0718</td>\n",
       "      <td>302</td>\n",
       "      <td>3465</td>\n",
       "      <td>2535</td>\n",
       "      <td>2535</td>\n",
       "      <td>0.270346</td>\n",
       "      <td>11.870000</td>\n",
       "      <td>0.051948</td>\n",
       "      <td>1</td>\n",
       "    </tr>\n",
       "    <tr>\n",
       "      <th>4</th>\n",
       "      <td>1.0718</td>\n",
       "      <td>302</td>\n",
       "      <td>3468</td>\n",
       "      <td>2538</td>\n",
       "      <td>2538</td>\n",
       "      <td>0.271500</td>\n",
       "      <td>11.870000</td>\n",
       "      <td>0.051903</td>\n",
       "      <td>1</td>\n",
       "    </tr>\n",
       "  </tbody>\n",
       "</table>\n",
       "</div>"
      ],
      "text/plain": [
       "   Fickett Score  CpG Islands  Transcript Length  ORF Length  ORF Ratio  \\\n",
       "0         0.3871           18               2618         981        981   \n",
       "1         0.9340            8                939         939        939   \n",
       "2         0.9340            8                939         939        939   \n",
       "3         1.0718          302               3465        2535       2535   \n",
       "4         1.0718          302               3468        2538       2538   \n",
       "\n",
       "   Relative Codon Bias  Isoelectric Potential  Aromaticity  coding/noncoding  \n",
       "0             0.284229               9.588915     0.112385                 1  \n",
       "1             0.460470               9.042610     0.137821                 1  \n",
       "2             0.460470               9.042610     0.137821                 1  \n",
       "3             0.270346              11.870000     0.051948                 1  \n",
       "4             0.271500              11.870000     0.051903                 1  "
      ]
     },
     "execution_count": 35,
     "metadata": {},
     "output_type": "execute_result"
    }
   ],
   "source": [
    "features_df[\"coding/noncoding\"] = 1    #1 for coding sequences\n",
    "features_df.head()"
   ]
  },
  {
   "cell_type": "code",
   "execution_count": 36,
   "id": "9df0e13c",
   "metadata": {},
   "outputs": [
    {
     "data": {
      "text/plain": [
       "(111275, 9)"
      ]
     },
     "execution_count": 36,
     "metadata": {},
     "output_type": "execute_result"
    }
   ],
   "source": [
    "features_df.shape"
   ]
  },
  {
   "cell_type": "code",
   "execution_count": 37,
   "id": "ced6b976",
   "metadata": {},
   "outputs": [],
   "source": [
    "features_df.to_csv('coding_8_features.csv', index=False)"
   ]
  },
  {
   "cell_type": "markdown",
   "id": "ac19bb1b",
   "metadata": {},
   "source": [
    "# Create non-coding dataset"
   ]
  },
  {
   "cell_type": "code",
   "execution_count": 38,
   "id": "adbdecd3",
   "metadata": {},
   "outputs": [],
   "source": [
    "fickett_array = []\n",
    "orf_array = []\n",
    "rcb_array=[]\n",
    "ip_array = []\n",
    "aromaticity_array = []\n",
    "transcript_array = []\n",
    "orf_ratio_array = []\n",
    "cpg_array = []\n",
    "generate_feature(noncoding_list) # generate feature set for coding dataset"
   ]
  },
  {
   "cell_type": "code",
   "execution_count": 39,
   "id": "470a7122",
   "metadata": {},
   "outputs": [],
   "source": [
    "names_dict = {'Fickett Score':fickett_array, 'CpG Islands':cpg_array, 'Transcript Length':transcript_array, 'ORF Length':orf_array, 'ORF Ratio':orf_array, 'Relative Codon Bias':rcb_array, 'Isoelectric Potential':ip_array, 'Aromaticity':aromaticity_array}\n",
    "features_df = pd.DataFrame(names_dict)"
   ]
  },
  {
   "cell_type": "code",
   "execution_count": 40,
   "id": "c8abbeda",
   "metadata": {},
   "outputs": [
    {
     "data": {
      "text/html": [
       "<div>\n",
       "<style scoped>\n",
       "    .dataframe tbody tr th:only-of-type {\n",
       "        vertical-align: middle;\n",
       "    }\n",
       "\n",
       "    .dataframe tbody tr th {\n",
       "        vertical-align: top;\n",
       "    }\n",
       "\n",
       "    .dataframe thead th {\n",
       "        text-align: right;\n",
       "    }\n",
       "</style>\n",
       "<table border=\"1\" class=\"dataframe\">\n",
       "  <thead>\n",
       "    <tr style=\"text-align: right;\">\n",
       "      <th></th>\n",
       "      <th>Fickett Score</th>\n",
       "      <th>CpG Islands</th>\n",
       "      <th>Transcript Length</th>\n",
       "      <th>ORF Length</th>\n",
       "      <th>ORF Ratio</th>\n",
       "      <th>Relative Codon Bias</th>\n",
       "      <th>Isoelectric Potential</th>\n",
       "      <th>Aromaticity</th>\n",
       "    </tr>\n",
       "  </thead>\n",
       "  <tbody>\n",
       "    <tr>\n",
       "      <th>0</th>\n",
       "      <td>0.6045</td>\n",
       "      <td>23</td>\n",
       "      <td>1657</td>\n",
       "      <td>231</td>\n",
       "      <td>231</td>\n",
       "      <td>0.458169</td>\n",
       "      <td>8.878344</td>\n",
       "      <td>0.068841</td>\n",
       "    </tr>\n",
       "    <tr>\n",
       "      <th>1</th>\n",
       "      <td>0.5691</td>\n",
       "      <td>32</td>\n",
       "      <td>712</td>\n",
       "      <td>228</td>\n",
       "      <td>228</td>\n",
       "      <td>0.497487</td>\n",
       "      <td>9.470164</td>\n",
       "      <td>0.067511</td>\n",
       "    </tr>\n",
       "    <tr>\n",
       "      <th>2</th>\n",
       "      <td>0.4430</td>\n",
       "      <td>11</td>\n",
       "      <td>535</td>\n",
       "      <td>111</td>\n",
       "      <td>111</td>\n",
       "      <td>0.518787</td>\n",
       "      <td>8.080870</td>\n",
       "      <td>0.101124</td>\n",
       "    </tr>\n",
       "    <tr>\n",
       "      <th>3</th>\n",
       "      <td>0.6268</td>\n",
       "      <td>20</td>\n",
       "      <td>1187</td>\n",
       "      <td>258</td>\n",
       "      <td>258</td>\n",
       "      <td>0.387685</td>\n",
       "      <td>9.154591</td>\n",
       "      <td>0.058228</td>\n",
       "    </tr>\n",
       "    <tr>\n",
       "      <th>4</th>\n",
       "      <td>0.6034</td>\n",
       "      <td>9</td>\n",
       "      <td>590</td>\n",
       "      <td>225</td>\n",
       "      <td>225</td>\n",
       "      <td>0.580721</td>\n",
       "      <td>9.527154</td>\n",
       "      <td>0.102041</td>\n",
       "    </tr>\n",
       "  </tbody>\n",
       "</table>\n",
       "</div>"
      ],
      "text/plain": [
       "   Fickett Score  CpG Islands  Transcript Length  ORF Length  ORF Ratio  \\\n",
       "0         0.6045           23               1657         231        231   \n",
       "1         0.5691           32                712         228        228   \n",
       "2         0.4430           11                535         111        111   \n",
       "3         0.6268           20               1187         258        258   \n",
       "4         0.6034            9                590         225        225   \n",
       "\n",
       "   Relative Codon Bias  Isoelectric Potential  Aromaticity  \n",
       "0             0.458169               8.878344     0.068841  \n",
       "1             0.497487               9.470164     0.067511  \n",
       "2             0.518787               8.080870     0.101124  \n",
       "3             0.387685               9.154591     0.058228  \n",
       "4             0.580721               9.527154     0.102041  "
      ]
     },
     "execution_count": 40,
     "metadata": {},
     "output_type": "execute_result"
    }
   ],
   "source": [
    "features_df.head()"
   ]
  },
  {
   "cell_type": "markdown",
   "id": "5311f3ed",
   "metadata": {},
   "source": [
    "## Adding a label for non-coding sequences"
   ]
  },
  {
   "cell_type": "code",
   "execution_count": 41,
   "id": "dcf59f0d",
   "metadata": {},
   "outputs": [
    {
     "data": {
      "text/html": [
       "<div>\n",
       "<style scoped>\n",
       "    .dataframe tbody tr th:only-of-type {\n",
       "        vertical-align: middle;\n",
       "    }\n",
       "\n",
       "    .dataframe tbody tr th {\n",
       "        vertical-align: top;\n",
       "    }\n",
       "\n",
       "    .dataframe thead th {\n",
       "        text-align: right;\n",
       "    }\n",
       "</style>\n",
       "<table border=\"1\" class=\"dataframe\">\n",
       "  <thead>\n",
       "    <tr style=\"text-align: right;\">\n",
       "      <th></th>\n",
       "      <th>Fickett Score</th>\n",
       "      <th>CpG Islands</th>\n",
       "      <th>Transcript Length</th>\n",
       "      <th>ORF Length</th>\n",
       "      <th>ORF Ratio</th>\n",
       "      <th>Relative Codon Bias</th>\n",
       "      <th>Isoelectric Potential</th>\n",
       "      <th>Aromaticity</th>\n",
       "      <th>coding/noncoding</th>\n",
       "    </tr>\n",
       "  </thead>\n",
       "  <tbody>\n",
       "    <tr>\n",
       "      <th>0</th>\n",
       "      <td>0.6045</td>\n",
       "      <td>23</td>\n",
       "      <td>1657</td>\n",
       "      <td>231</td>\n",
       "      <td>231</td>\n",
       "      <td>0.458169</td>\n",
       "      <td>8.878344</td>\n",
       "      <td>0.068841</td>\n",
       "      <td>0</td>\n",
       "    </tr>\n",
       "    <tr>\n",
       "      <th>1</th>\n",
       "      <td>0.5691</td>\n",
       "      <td>32</td>\n",
       "      <td>712</td>\n",
       "      <td>228</td>\n",
       "      <td>228</td>\n",
       "      <td>0.497487</td>\n",
       "      <td>9.470164</td>\n",
       "      <td>0.067511</td>\n",
       "      <td>0</td>\n",
       "    </tr>\n",
       "    <tr>\n",
       "      <th>2</th>\n",
       "      <td>0.4430</td>\n",
       "      <td>11</td>\n",
       "      <td>535</td>\n",
       "      <td>111</td>\n",
       "      <td>111</td>\n",
       "      <td>0.518787</td>\n",
       "      <td>8.080870</td>\n",
       "      <td>0.101124</td>\n",
       "      <td>0</td>\n",
       "    </tr>\n",
       "    <tr>\n",
       "      <th>3</th>\n",
       "      <td>0.6268</td>\n",
       "      <td>20</td>\n",
       "      <td>1187</td>\n",
       "      <td>258</td>\n",
       "      <td>258</td>\n",
       "      <td>0.387685</td>\n",
       "      <td>9.154591</td>\n",
       "      <td>0.058228</td>\n",
       "      <td>0</td>\n",
       "    </tr>\n",
       "    <tr>\n",
       "      <th>4</th>\n",
       "      <td>0.6034</td>\n",
       "      <td>9</td>\n",
       "      <td>590</td>\n",
       "      <td>225</td>\n",
       "      <td>225</td>\n",
       "      <td>0.580721</td>\n",
       "      <td>9.527154</td>\n",
       "      <td>0.102041</td>\n",
       "      <td>0</td>\n",
       "    </tr>\n",
       "  </tbody>\n",
       "</table>\n",
       "</div>"
      ],
      "text/plain": [
       "   Fickett Score  CpG Islands  Transcript Length  ORF Length  ORF Ratio  \\\n",
       "0         0.6045           23               1657         231        231   \n",
       "1         0.5691           32                712         228        228   \n",
       "2         0.4430           11                535         111        111   \n",
       "3         0.6268           20               1187         258        258   \n",
       "4         0.6034            9                590         225        225   \n",
       "\n",
       "   Relative Codon Bias  Isoelectric Potential  Aromaticity  coding/noncoding  \n",
       "0             0.458169               8.878344     0.068841                 0  \n",
       "1             0.497487               9.470164     0.067511                 0  \n",
       "2             0.518787               8.080870     0.101124                 0  \n",
       "3             0.387685               9.154591     0.058228                 0  \n",
       "4             0.580721               9.527154     0.102041                 0  "
      ]
     },
     "execution_count": 41,
     "metadata": {},
     "output_type": "execute_result"
    }
   ],
   "source": [
    "features_df[\"coding/noncoding\"] = 0    #0 for coding sequences\n",
    "features_df.head()"
   ]
  },
  {
   "cell_type": "code",
   "execution_count": 42,
   "id": "0f216b38",
   "metadata": {},
   "outputs": [
    {
     "data": {
      "text/plain": [
       "(58022, 9)"
      ]
     },
     "execution_count": 42,
     "metadata": {},
     "output_type": "execute_result"
    }
   ],
   "source": [
    "features_df.shape"
   ]
  },
  {
   "cell_type": "code",
   "execution_count": 43,
   "id": "d77aad6d",
   "metadata": {},
   "outputs": [],
   "source": [
    "features_df.to_csv('noncoding_8_features.csv', index=False)"
   ]
  },
  {
   "cell_type": "code",
   "execution_count": null,
   "id": "29dfdce6",
   "metadata": {},
   "outputs": [],
   "source": []
  },
  {
   "cell_type": "code",
   "execution_count": null,
   "id": "e7123040",
   "metadata": {},
   "outputs": [],
   "source": []
  }
 ],
 "metadata": {
  "kernelspec": {
   "display_name": "Python 3 (ipykernel)",
   "language": "python",
   "name": "python3"
  },
  "language_info": {
   "codemirror_mode": {
    "name": "ipython",
    "version": 3
   },
   "file_extension": ".py",
   "mimetype": "text/x-python",
   "name": "python",
   "nbconvert_exporter": "python",
   "pygments_lexer": "ipython3",
   "version": "3.9.13"
  }
 },
 "nbformat": 4,
 "nbformat_minor": 5
}
